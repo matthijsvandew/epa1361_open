{
 "cells": [
  {
   "cell_type": "code",
   "execution_count": 9,
   "metadata": {
    "tags": []
   },
   "outputs": [],
   "source": [
    "import numpy as np\n",
    "import scipy as sp\n",
    "import pandas as pd\n",
    "import matplotlib.pyplot as plt\n",
    "import seaborn as sns\n",
    "import networkx as nx"
   ]
  },
  {
   "cell_type": "code",
   "execution_count": 10,
   "metadata": {},
   "outputs": [
    {
     "ename": "ValueError",
     "evalue": "outcome with this name but of different class already exists",
     "output_type": "error",
     "traceback": [
      "\u001B[1;31m---------------------------------------------------------------------------\u001B[0m",
      "\u001B[1;31mValueError\u001B[0m                                Traceback (most recent call last)",
      "Input \u001B[1;32mIn [10]\u001B[0m, in \u001B[0;36m<cell line: 20>\u001B[1;34m()\u001B[0m\n\u001B[0;32m     17\u001B[0m ema_logging\u001B[38;5;241m.\u001B[39mlog_to_stderr(ema_logging\u001B[38;5;241m.\u001B[39mINFO)\n\u001B[0;32m     19\u001B[0m \u001B[38;5;66;03m# for Open exploration we choose problem formulation\u001B[39;00m\n\u001B[1;32m---> 20\u001B[0m dike_model, planning_steps \u001B[38;5;241m=\u001B[39m \u001B[43mget_model_for_problem_formulation\u001B[49m\u001B[43m(\u001B[49m\u001B[38;5;241;43m4\u001B[39;49m\u001B[43m)\u001B[49m\n",
      "File \u001B[1;32mC:\\Github\\epa1361_open\\final assignment\\problem_formulation.py:321\u001B[0m, in \u001B[0;36mget_model_for_problem_formulation\u001B[1;34m(problem_formulation_id)\u001B[0m\n\u001B[0;32m    317\u001B[0m \u001B[38;5;28;01melif\u001B[39;00m problem_formulation_id \u001B[38;5;241m==\u001B[39m \u001B[38;5;241m4\u001B[39m:\n\u001B[0;32m    318\u001B[0m     outcomes \u001B[38;5;241m=\u001B[39m []\n\u001B[0;32m    320\u001B[0m     outcomes\u001B[38;5;241m.\u001B[39mappend(\n\u001B[1;32m--> 321\u001B[0m         \u001B[43mArrayOutcome\u001B[49m\u001B[43m(\u001B[49m\n\u001B[0;32m    322\u001B[0m \u001B[43m            \u001B[49m\u001B[38;5;124;43mf\u001B[39;49m\u001B[38;5;124;43m\"\u001B[39;49m\u001B[38;5;124;43mExpected Annual Damage\u001B[39;49m\u001B[38;5;124;43m\"\u001B[39;49m\u001B[43m,\u001B[49m\n\u001B[0;32m    323\u001B[0m \u001B[43m            \u001B[49m\u001B[43mvariable_name\u001B[49m\u001B[38;5;241;43m=\u001B[39;49m\u001B[43m[\u001B[49m\n\u001B[0;32m    324\u001B[0m \u001B[43m                \u001B[49m\u001B[38;5;124;43mf\u001B[39;49m\u001B[38;5;124;43m\"\u001B[39;49m\u001B[38;5;132;43;01m{\u001B[39;49;00m\u001B[43mdike\u001B[49m\u001B[38;5;132;43;01m}\u001B[39;49;00m\u001B[38;5;124;43m_Expected Annual Damage\u001B[39;49m\u001B[38;5;124;43m\"\u001B[39;49m\u001B[43m \u001B[49m\u001B[38;5;28;43;01mfor\u001B[39;49;00m\u001B[43m \u001B[49m\u001B[43mdike\u001B[49m\u001B[43m \u001B[49m\u001B[38;5;129;43;01min\u001B[39;49;00m\u001B[43m \u001B[49m\u001B[43mfunction\u001B[49m\u001B[38;5;241;43m.\u001B[39;49m\u001B[43mdikelist\u001B[49m\n\u001B[0;32m    325\u001B[0m \u001B[43m            \u001B[49m\u001B[43m]\u001B[49m\u001B[43m,\u001B[49m\n\u001B[0;32m    326\u001B[0m \u001B[43m            \u001B[49m\u001B[43mfunction\u001B[49m\u001B[38;5;241;43m=\u001B[39;49m\u001B[43msum_over_time\u001B[49m\u001B[43m,\u001B[49m\n\u001B[0;32m    327\u001B[0m \u001B[43m        \u001B[49m\u001B[43m)\u001B[49m\n\u001B[0;32m    328\u001B[0m     )\n\u001B[0;32m    330\u001B[0m     outcomes\u001B[38;5;241m.\u001B[39mappend(\n\u001B[0;32m    331\u001B[0m         ArrayOutcome(\n\u001B[0;32m    332\u001B[0m             \u001B[38;5;124mf\u001B[39m\u001B[38;5;124m\"\u001B[39m\u001B[38;5;124mDike Investment Costs\u001B[39m\u001B[38;5;124m\"\u001B[39m,\n\u001B[1;32m   (...)\u001B[0m\n\u001B[0;32m    337\u001B[0m         )\n\u001B[0;32m    338\u001B[0m     )\n\u001B[0;32m    340\u001B[0m     outcomes\u001B[38;5;241m.\u001B[39mappend(\n\u001B[0;32m    341\u001B[0m         ArrayOutcome(\n\u001B[0;32m    342\u001B[0m             \u001B[38;5;124mf\u001B[39m\u001B[38;5;124m\"\u001B[39m\u001B[38;5;124mExpected Number of Deaths\u001B[39m\u001B[38;5;124m\"\u001B[39m,\n\u001B[1;32m   (...)\u001B[0m\n\u001B[0;32m    347\u001B[0m         )\n\u001B[0;32m    348\u001B[0m     )\n",
      "File \u001B[1;32m~\\anaconda3\\lib\\site-packages\\ema_workbench\\em_framework\\outcomes.py:411\u001B[0m, in \u001B[0;36mArrayOutcome.__init__\u001B[1;34m(self, name, variable_name, function, expected_range, shape, dtype)\u001B[0m\n\u001B[0;32m    408\u001B[0m \u001B[38;5;28;01mdef\u001B[39;00m \u001B[38;5;21m__init__\u001B[39m(\n\u001B[0;32m    409\u001B[0m     \u001B[38;5;28mself\u001B[39m, name, variable_name\u001B[38;5;241m=\u001B[39m\u001B[38;5;28;01mNone\u001B[39;00m, function\u001B[38;5;241m=\u001B[39m\u001B[38;5;28;01mNone\u001B[39;00m, expected_range\u001B[38;5;241m=\u001B[39m\u001B[38;5;28;01mNone\u001B[39;00m, shape\u001B[38;5;241m=\u001B[39m\u001B[38;5;28;01mNone\u001B[39;00m, dtype\u001B[38;5;241m=\u001B[39m\u001B[38;5;28;01mNone\u001B[39;00m\n\u001B[0;32m    410\u001B[0m ):\n\u001B[1;32m--> 411\u001B[0m     \u001B[38;5;28;43msuper\u001B[39;49m\u001B[43m(\u001B[49m\u001B[43m)\u001B[49m\u001B[38;5;241;43m.\u001B[39;49m\u001B[38;5;21;43m__init__\u001B[39;49m\u001B[43m(\u001B[49m\n\u001B[0;32m    412\u001B[0m \u001B[43m        \u001B[49m\u001B[43mname\u001B[49m\u001B[43m,\u001B[49m\n\u001B[0;32m    413\u001B[0m \u001B[43m        \u001B[49m\u001B[43mvariable_name\u001B[49m\u001B[38;5;241;43m=\u001B[39;49m\u001B[43mvariable_name\u001B[49m\u001B[43m,\u001B[49m\n\u001B[0;32m    414\u001B[0m \u001B[43m        \u001B[49m\u001B[43mfunction\u001B[49m\u001B[38;5;241;43m=\u001B[39;49m\u001B[43mfunction\u001B[49m\u001B[43m,\u001B[49m\n\u001B[0;32m    415\u001B[0m \u001B[43m        \u001B[49m\u001B[43mexpected_range\u001B[49m\u001B[38;5;241;43m=\u001B[39;49m\u001B[43mexpected_range\u001B[49m\u001B[43m,\u001B[49m\n\u001B[0;32m    416\u001B[0m \u001B[43m        \u001B[49m\u001B[43mshape\u001B[49m\u001B[38;5;241;43m=\u001B[39;49m\u001B[43mshape\u001B[49m\u001B[43m,\u001B[49m\n\u001B[0;32m    417\u001B[0m \u001B[43m        \u001B[49m\u001B[43mdtype\u001B[49m\u001B[38;5;241;43m=\u001B[39;49m\u001B[43mdtype\u001B[49m\u001B[43m,\u001B[49m\n\u001B[0;32m    418\u001B[0m \u001B[43m    \u001B[49m\u001B[43m)\u001B[49m\n",
      "File \u001B[1;32m~\\anaconda3\\lib\\site-packages\\ema_workbench\\em_framework\\outcomes.py:154\u001B[0m, in \u001B[0;36mAbstractOutcome.__init__\u001B[1;34m(self, name, kind, variable_name, function, expected_range, shape, dtype)\u001B[0m\n\u001B[0;32m    151\u001B[0m \u001B[38;5;28;01mif\u001B[39;00m (shape \u001B[38;5;129;01mis\u001B[39;00m \u001B[38;5;129;01mnot\u001B[39;00m \u001B[38;5;28;01mNone\u001B[39;00m \u001B[38;5;129;01mand\u001B[39;00m dtype \u001B[38;5;129;01mis\u001B[39;00m \u001B[38;5;28;01mNone\u001B[39;00m) \u001B[38;5;129;01mor\u001B[39;00m (dtype \u001B[38;5;129;01mis\u001B[39;00m \u001B[38;5;129;01mnot\u001B[39;00m \u001B[38;5;28;01mNone\u001B[39;00m \u001B[38;5;129;01mand\u001B[39;00m shape \u001B[38;5;129;01mis\u001B[39;00m \u001B[38;5;28;01mNone\u001B[39;00m):\n\u001B[0;32m    152\u001B[0m     \u001B[38;5;28;01mraise\u001B[39;00m \u001B[38;5;167;01mValueError\u001B[39;00m(\u001B[38;5;124m\"\u001B[39m\u001B[38;5;124mif using shape or dtype, both need to be provided\u001B[39m\u001B[38;5;124m\"\u001B[39m)\n\u001B[1;32m--> 154\u001B[0m \u001B[43mregister\u001B[49m\u001B[43m(\u001B[49m\u001B[38;5;28;43mself\u001B[39;49m\u001B[43m)\u001B[49m\n\u001B[0;32m    156\u001B[0m \u001B[38;5;28mself\u001B[39m\u001B[38;5;241m.\u001B[39mkind \u001B[38;5;241m=\u001B[39m kind\n\u001B[0;32m    158\u001B[0m \u001B[38;5;28;01mif\u001B[39;00m variable_name:\n",
      "File \u001B[1;32m~\\anaconda3\\lib\\site-packages\\ema_workbench\\em_framework\\outcomes.py:53\u001B[0m, in \u001B[0;36mRegister.__call__\u001B[1;34m(self, outcome)\u001B[0m\n\u001B[0;32m     51\u001B[0m     \u001B[38;5;28mself\u001B[39m\u001B[38;5;241m.\u001B[39moutcomes[outcome\u001B[38;5;241m.\u001B[39mname] \u001B[38;5;241m=\u001B[39m outcome\u001B[38;5;241m.\u001B[39m\u001B[38;5;18m__class__\u001B[39m\n\u001B[0;32m     52\u001B[0m \u001B[38;5;28;01melif\u001B[39;00m \u001B[38;5;129;01mnot\u001B[39;00m \u001B[38;5;28misinstance\u001B[39m(outcome, \u001B[38;5;28mself\u001B[39m\u001B[38;5;241m.\u001B[39moutcomes[outcome\u001B[38;5;241m.\u001B[39mname]):\n\u001B[1;32m---> 53\u001B[0m     \u001B[38;5;28;01mraise\u001B[39;00m \u001B[38;5;167;01mValueError\u001B[39;00m(\u001B[38;5;124m\"\u001B[39m\u001B[38;5;124moutcome with this name but of different class \u001B[39m\u001B[38;5;124m\"\u001B[39m \u001B[38;5;124m\"\u001B[39m\u001B[38;5;124malready exists\u001B[39m\u001B[38;5;124m\"\u001B[39m)\n\u001B[0;32m     54\u001B[0m \u001B[38;5;28;01melse\u001B[39;00m:\n\u001B[0;32m     55\u001B[0m     \u001B[38;5;28;01mpass\u001B[39;00m\n",
      "\u001B[1;31mValueError\u001B[0m: outcome with this name but of different class already exists"
     ]
    }
   ],
   "source": [
    "from ema_workbench import (Model, MultiprocessingEvaluator, \n",
    "                           Policy, Scenario, ema_logging,\n",
    "                           save_results, load_results, \n",
    "                           SequentialEvaluator)\n",
    "\n",
    "from ema_workbench.em_framework.evaluators import perform_experiments\n",
    "from ema_workbench.em_framework.samplers import sample_uncertainties\n",
    "\n",
    "import time\n",
    "from problem_formulation import get_model_for_problem_formulation\n",
    "\n",
    "# sns pair_plots create a lot of warnings\n",
    "import warnings\n",
    "warnings.filterwarnings('ignore')\n",
    "\n",
    "\n",
    "ema_logging.log_to_stderr(ema_logging.INFO)\n",
    "\n",
    "# for Open exploration we choose problem formulation\n",
    "dike_model, planning_steps = get_model_for_problem_formulation(4)"
   ]
  },
  {
   "cell_type": "code",
   "execution_count": null,
   "metadata": {
    "tags": []
   },
   "outputs": [],
   "source": [
    "# enlisting uncertainties, their types (RealParameter/IntegerParameter/CategoricalParameter), \n",
    "# lower boundary, and upper boundary\n",
    "for unc in dike_model.uncertainties:\n",
    "    print(repr(unc))\n",
    "    \n",
    "uncertainties = dike_model.uncertainties\n",
    "\n",
    "import copy\n",
    "uncertainties = copy.deepcopy(dike_model.uncertainties)"
   ]
  },
  {
   "cell_type": "code",
   "execution_count": null,
   "metadata": {
    "scrolled": true,
    "tags": []
   },
   "outputs": [],
   "source": [
    "# enlisting policy levers, their types (RealParameter/IntegerParameter), lower boundary, and upper boundary\n",
    "for policy in dike_model.levers:\n",
    "    print(repr(policy))\n",
    "    \n",
    "levers = dike_model.levers \n",
    "\n",
    "import copy\n",
    "levers = copy.deepcopy(dike_model.levers)"
   ]
  },
  {
   "cell_type": "code",
   "execution_count": null,
   "metadata": {
    "tags": []
   },
   "outputs": [],
   "source": [
    "# running the model through EMA workbench\n",
    "\n",
    "with MultiprocessingEvaluator(dike_model) as evaluator:\n",
    "    results = evaluator.perform_experiments(scenarios=50, policies=10)\n",
    "# observing the simulation runs\n",
    "experiments, outcomes = results"
   ]
  },
  {
   "cell_type": "code",
   "execution_count": null,
   "metadata": {
    "tags": []
   },
   "outputs": [],
   "source": [
    "experiments"
   ]
  },
  {
   "cell_type": "code",
   "execution_count": null,
   "metadata": {
    "tags": []
   },
   "outputs": [],
   "source": [
    "outcomes"
   ]
  },
  {
   "cell_type": "code",
   "execution_count": null,
   "metadata": {},
   "outputs": [],
   "source": [
    "print(outcomes.keys())"
   ]
  },
  {
   "cell_type": "code",
   "execution_count": null,
   "metadata": {},
   "outputs": [],
   "source": [
    "# create a dataframe from the outcomes with an extra column with policy names\n",
    "policies = experiments['policy']\n",
    "data = pd.DataFrame(outcomes)\n",
    "data['policy'] = policies"
   ]
  },
  {
   "cell_type": "code",
   "execution_count": null,
   "metadata": {
    "tags": []
   },
   "outputs": [],
   "source": [
    "# add columns to the dataframe in which total outcomes are defined for total costs and number of deaths\n",
    "\n",
    "data['total costs'] = data['A.1 Total Costs'] + \\\n",
    "                                      data['A.2 Total Costs'] + \\\n",
    "                                      data['A.3 Total Costs'] + \\\n",
    "                                      data['A.4 Total Costs'] + \\\n",
    "                                      data['A.5 Total Costs']\n",
    "\n",
    "data['total Expected Number of Deaths'] = data['A.1_Expected Number of Deaths'] + \\\n",
    "                                          data['A.2_Expected Number of Deaths'] + \\\n",
    "                                          data['A.3_Expected Number of Deaths'] + \\\n",
    "                                          data['A.4_Expected Number of Deaths'] + \\\n",
    "                                          data['A.5_Expected Number of Deaths']"
   ]
  },
  {
   "cell_type": "code",
   "execution_count": null,
   "metadata": {
    "tags": []
   },
   "outputs": [],
   "source": [
    "#create an outcomes dataframe with only the relevant outcomes for A3\n",
    "A_1data = data[['A.1 Total Costs',\n",
    "                'A.1_Expected Number of Deaths', 'RfR Total Costs',\n",
    "                'Expected Evacuation Costs', \"policy\"]]\n",
    "\n",
    "A_2data = data[['A.2 Total Costs', \n",
    "                'A.2_Expected Number of Deaths', 'RfR Total Costs',\n",
    "                'Expected Evacuation Costs', \"policy\"]]\n",
    "\n",
    "A_3data = data[['A.3 Total Costs',\n",
    "                'A.3_Expected Number of Deaths', 'RfR Total Costs',\n",
    "                'Expected Evacuation Costs', \"policy\"]]\n",
    "\n",
    "A_4data = data[['A.4 Total Costs',\n",
    "                'A.4_Expected Number of Deaths', 'RfR Total Costs',\n",
    "                'Expected Evacuation Costs', \"policy\"]]\n",
    "\n",
    "A_5data = data[['A.5 Total Costs',\n",
    "                'A.5_Expected Number of Deaths', 'RfR Total Costs',\n",
    "                'Expected Evacuation Costs', \"policy\"]]\n",
    "\n",
    "A_totaldata=data[['total costs', \n",
    "                  'total Expected Number of Deaths', 'RfR Total Costs',\n",
    "                  'Expected Evacuation Costs', \"policy\"]]"
   ]
  },
  {
   "cell_type": "code",
   "execution_count": null,
   "metadata": {
    "scrolled": true,
    "tags": []
   },
   "outputs": [],
   "source": [
    "data.columns"
   ]
  },
  {
   "cell_type": "code",
   "execution_count": null,
   "metadata": {
    "tags": []
   },
   "outputs": [],
   "source": [
    "# a pairplot is created to be able to have a first glance at the objectives and possible trade-offs\n",
    "A1pairplot=sns.pairplot(A_1data, \n",
    "                        hue='policy', \n",
    "                        vars=['A.1 Total Costs', \n",
    "                              'A.1_Expected Number of Deaths', \n",
    "                              'RfR Total Costs', \n",
    "                              'Expected Evacuation Costs'])\n",
    "\n",
    "A1pairplot._legend.remove()\n",
    "A1pairplot.savefig(\"Figures/A1pairplot.png\")"
   ]
  },
  {
   "cell_type": "code",
   "execution_count": null,
   "metadata": {
    "tags": []
   },
   "outputs": [],
   "source": [
    "# a pairplot is created to be able to have a first glance at the objectives and possible trade-offs\n",
    "A2pairplot=sns.pairplot(A_2data, \n",
    "                        hue='policy', \n",
    "                        vars=['A.2 Total Costs', \n",
    "                              'A.2_Expected Number of Deaths', \n",
    "                              'RfR Total Costs', \n",
    "                              'Expected Evacuation Costs'])\n",
    "\n",
    "A2pairplot._legend.remove()\n",
    "A2pairplot.savefig(\"Figures/A2pairplot.png\")"
   ]
  },
  {
   "cell_type": "code",
   "execution_count": null,
   "metadata": {
    "tags": []
   },
   "outputs": [],
   "source": [
    "# a pairplot is created to be able to have a first glance at the objectives and possible trade-offs\n",
    "A3pairplot=sns.pairplot(A_3data, \n",
    "                        hue='policy', \n",
    "                        vars=['A.3 Total Costs', \n",
    "                              'A.3_Expected Number of Deaths', \n",
    "                              'RfR Total Costs', \n",
    "                              'Expected Evacuation Costs'])\n",
    "\n",
    "A3pairplot._legend.remove()\n",
    "A3pairplot.savefig(\"Figures/A3pairplot.png\")"
   ]
  },
  {
   "cell_type": "code",
   "execution_count": null,
   "metadata": {},
   "outputs": [],
   "source": [
    "# a pairplot is created to be able to have a first glance at the objectives and possible trade-offs\n",
    "A4pairplot=sns.pairplot(A_4data, \n",
    "                        hue='policy', \n",
    "                        vars=['A.4 Total Costs', \n",
    "                              'A.4_Expected Number of Deaths', \n",
    "                              'RfR Total Costs', \n",
    "                              'Expected Evacuation Costs'])\n",
    "\n",
    "A4pairplot._legend.remove()\n",
    "A4pairplot.savefig(\"Figures/A4pairplot.png\")"
   ]
  },
  {
   "cell_type": "code",
   "execution_count": null,
   "metadata": {},
   "outputs": [],
   "source": [
    "# a pairplot is created to be able to have a first glance at the objectives \n",
    "# and possible trade-offs\n",
    "A5pairplot=sns.pairplot(A_5data, \n",
    "                        hue='policy', \n",
    "                        vars=['A.5 Total Costs', \n",
    "                              'A.5_Expected Number of Deaths', \n",
    "                              'RfR Total Costs', \n",
    "                              'Expected Evacuation Costs'])\n",
    "\n",
    "A5pairplot._legend.remove()\n",
    "A5pairplot.savefig(\"Figures/A5pairplot.png\")"
   ]
  },
  {
   "attachments": {},
   "cell_type": "markdown",
   "metadata": {},
   "source": [
    "!!! Dit moet aangepast worden!!!!!! \n",
    "Various correlations between outcomes are present.\n",
    "\n",
    "For all dike rings: the expected annual damage and the expected number of deaths at a specific dike ring are positively correlated. The correlation coefficient that governs the mathematical connection seems again to be correlated with the specific policy that is in place.\n",
    "For all dike rings: the expected annual damage at a specific dike ring and the total expected evacuation costs are positively correlated in a relatively large fraction of the cases. They are also never negatively correlated.\n",
    "For all dike rings: the expected number of deaths at a specific dike ring and the total expected evacuation costs are positively correlated in a relatively large fraction of the cases. They are also never negatively correlated.\n",
    "The ranges of dike ring specific levers and outcomes differ significantly.\n",
    "\n",
    "The highest expected annual damage per dike ring can be ordered as follows: [A1,A3,A2,A5,A4], from highest to lowest.\n",
    "The most expected number of deaths per dike ring can be ordered as follows: [A3,A1,A2,A5,A4], from highest to lowest.\n",
    "The highest dike investment costs per dike ring can be ordered as follows: [A2,A1,A3,A5,A4], from highest to lowest.\n",
    "The policy options differ significantly in their effectiveness.\n",
    "\n",
    "For all dike rings: the more is invested in dikes at a specific dike ring, the less number of deaths are expected at that specific dike ring and the less annual damage can be expected at that same dike ring.\n",
    "Only for dike ring A3: the more is invested in dikes, the less total evacuation cost is expected.\n",
    "For all dike rings: spending more on RFR measures does not unambiguously lead to less expected number of deaths, less expected annual damage or less expected evacuation costs.\n",
    "PRIM Scenario Discovery\n",
    "For the prim analyses boundaries have to be set on the outcomes of interest. To determine which boundary to pick, kde plots are made.\n",
    "\n",
    "\n",
    "-------------------------------------------------------------------------------------------------------------"
   ]
  },
  {
   "cell_type": "code",
   "execution_count": null,
   "metadata": {
    "tags": []
   },
   "outputs": [],
   "source": [
    "fig, ax = plt.subplots()\n",
    "sns.kdeplot(outcomes['Expected Evacuation Costs'], ax=ax)\n",
    "sns.set_style('white')\n",
    "fig.set_size_inches(8,6)\n",
    "plt.xlim([0, 20000])\n",
    "fig.subplots_adjust(bottom=0.3)\n",
    "plt.show()"
   ]
  },
  {
   "cell_type": "code",
   "execution_count": null,
   "metadata": {},
   "outputs": [],
   "source": [
    "fig, ax = plt.subplots()\n",
    "sns.kdeplot(outcomes['A.3_Expected Number of Deaths'], ax=ax)\n",
    "sns.set_style('white')\n",
    "fig.set_size_inches(8,6)\n",
    "plt.xlim([0, 2.1])\n",
    "fig.subplots_adjust(bottom=0.3)\n",
    "plt.show()"
   ]
  },
  {
   "cell_type": "code",
   "execution_count": null,
   "metadata": {},
   "outputs": [],
   "source": [
    "ydeaths = outcomes['A.3_Expected Number of Deaths'] < 1e-5\n",
    "np.sum(ydeaths)/len(outcomes['A.3_Expected Number of Deaths'])"
   ]
  },
  {
   "cell_type": "code",
   "execution_count": null,
   "metadata": {},
   "outputs": [],
   "source": [
    "#ycosts=outcomes['A.3 Total Costs'] < 1e6\n",
    "#np.sum(ydamage)/len(outcomes['A.3_Expected Annual Damage'])"
   ]
  },
  {
   "cell_type": "code",
   "execution_count": null,
   "metadata": {},
   "outputs": [],
   "source": [
    "yevac=outcomes['Expected Evacuation Costs'] < 1e3\n",
    "np.sum(yevac)/len(outcomes['Expected Evacuation Costs'])"
   ]
  },
  {
   "cell_type": "code",
   "execution_count": null,
   "metadata": {},
   "outputs": [],
   "source": [
    "from ema_workbench.analysis import prim\n",
    "x1 = experiments.drop([o.name for o in dike_model.levers] + [\"policy\"], axis=1)\n",
    "\n",
    "prim_alg = prim.Prim(x1, ydeaths, threshold=0.5, peel_alpha=0.01)\n",
    "boxbestdeaths = prim_alg.find_box()\n",
    "\n",
    "boxbestdeaths.show_tradeoff()\n",
    "plt.show()"
   ]
  },
  {
   "cell_type": "code",
   "execution_count": null,
   "metadata": {},
   "outputs": [],
   "source": [
    "boxbestdeaths.peeling_trajectory[35:60]"
   ]
  },
  {
   "cell_type": "code",
   "execution_count": null,
   "metadata": {},
   "outputs": [],
   "source": [
    "print(results)\n"
   ]
  },
  {
   "cell_type": "code",
   "execution_count": null,
   "metadata": {},
   "outputs": [],
   "source": [
    "bestdeaths=boxbestdeaths.inspect(style='graph')"
   ]
  },
  {
   "cell_type": "code",
   "execution_count": null,
   "metadata": {},
   "outputs": [],
   "source": [
    "prim_alg = prim.Prim(x1, yevac, threshold=0.5, peel_alpha=0.01)\n",
    "boxbestevac= prim_alg.find_box()\n",
    "\n",
    "boxbestevac.show_tradeoff()\n",
    "plt.show()"
   ]
  },
  {
   "cell_type": "code",
   "execution_count": null,
   "metadata": {},
   "outputs": [],
   "source": [
    "boxbestevac.peeling_trajectory[60:80]"
   ]
  },
  {
   "cell_type": "code",
   "execution_count": null,
   "metadata": {},
   "outputs": [],
   "source": [
    "bestevac=boxbestevac.inspect(style='graph')"
   ]
  },
  {
   "cell_type": "code",
   "execution_count": null,
   "metadata": {},
   "outputs": [],
   "source": []
  }
 ],
 "metadata": {
  "kernelspec": {
   "display_name": "Python 3 (ipykernel)",
   "language": "python",
   "name": "python3"
  },
  "language_info": {
   "codemirror_mode": {
    "name": "ipython",
    "version": 3
   },
   "file_extension": ".py",
   "mimetype": "text/x-python",
   "name": "python",
   "nbconvert_exporter": "python",
   "pygments_lexer": "ipython3",
   "version": "3.11.3"
  }
 },
 "nbformat": 4,
 "nbformat_minor": 4
}
